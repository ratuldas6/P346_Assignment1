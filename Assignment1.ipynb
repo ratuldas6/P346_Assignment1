{
 "cells": [
  {
   "cell_type": "code",
   "execution_count": 162,
   "id": "7ec06528",
   "metadata": {},
   "outputs": [],
   "source": [
    "#To find sum of first N natural numbers and of odd numbers upto N\n",
    "def sum(n):\n",
    "    total = 0\n",
    "    total_odd = 0\n",
    "    try:\n",
    "        if n<=0:                       #non-positive integers are eliminated\n",
    "            print(\"Please enter a natural number\")\n",
    "        else:\n",
    "            for i in range(n+1):\n",
    "                total+=i               #natural number total is calculated upto the specified N\n",
    "                total_odd+=2*i+1       #sum of N odd numbers is calculated\n",
    "            print(\"The sum of first \" + str(n) + \" natural numbers is = \" + str(total))\n",
    "            print(\"The sum of first \" + str(n) + \" odd numbers is = \" + str(total_odd))\n",
    "    except TypeError:                  #fractional real numbers (floats) are eliminated\n",
    "        print(\"Please enter a natural number\")"
   ]
  },
  {
   "cell_type": "code",
   "execution_count": 163,
   "id": "9338aca3",
   "metadata": {},
   "outputs": [
    {
     "name": "stdout",
     "output_type": "stream",
     "text": [
      "Please enter a natural number\n",
      "The sum of first 10 natural numbers is = 55\n",
      "The sum of first 10 odd numbers is = 121\n",
      "Please enter a natural number\n",
      "The sum of first 1000 natural numbers is = 500500\n",
      "The sum of first 1000 odd numbers is = 1002001\n"
     ]
    },
    {
     "data": {
      "text/plain": [
       "(None, None, None, None)"
      ]
     },
     "execution_count": 163,
     "metadata": {},
     "output_type": "execute_result"
    }
   ],
   "source": [
    "sum(2.4), sum(10), sum(-10), sum(1000)"
   ]
  },
  {
   "cell_type": "code",
   "execution_count": 164,
   "id": "3dee66b2",
   "metadata": {},
   "outputs": [],
   "source": [
    "#To find the sum of N terms of an AP series for common difference 1.5 and a common ratio 0.5\n",
    "def AP(ap_init,n):\n",
    "    try:\n",
    "        if n<0:\n",
    "            print(\"Please enter a non-negative integer for N\") \n",
    "        else:\n",
    "            current_term = ap_init                               #the initial term is set at first as current term\n",
    "            ap_total = ap_init                                   #the initial term is added before the for loop\n",
    "            common_difference = 1.5\n",
    "            for k in range(1,n):                                 #the loop runs k-1 times when k>=1\n",
    "                current_term = current_term + common_difference  #the common difference is added to the previous term\n",
    "                ap_total = ap_total + current_term               #(k+1)th term of the AP is added to the total\n",
    "            print(\"The sum of the AP upto \" + str(n) + \" terms is = \" + str(ap_total))\n",
    "    except TypeError:\n",
    "        print(\"Please enter a non-negative integer for N\")  "
   ]
  },
  {
   "cell_type": "code",
   "execution_count": 165,
   "id": "60ccb2e3",
   "metadata": {},
   "outputs": [
    {
     "name": "stdout",
     "output_type": "stream",
     "text": [
      "The sum of the AP upto 3 terms is = 4.5\n",
      "The sum of the AP upto 5 terms is = -35.0\n",
      "The sum of the AP upto 5 terms is = 40.0\n",
      "The sum of the AP upto 2 terms is = 6.5\n",
      "The sum of the AP upto 0 terms is = 3\n",
      "Please enter a non-negative integer for N\n",
      "Please enter a non-negative integer for N\n"
     ]
    },
    {
     "data": {
      "text/plain": [
       "(None, None, None, None, None, None, None)"
      ]
     },
     "execution_count": 165,
     "metadata": {},
     "output_type": "execute_result"
    }
   ],
   "source": [
    "AP(0,3), AP(-10,5), AP(5,5), AP(2.5,2), AP(3,0), AP(3,-5), AP(3,2.5)"
   ]
  },
  {
   "cell_type": "code",
   "execution_count": 166,
   "id": "9db92965",
   "metadata": {},
   "outputs": [],
   "source": [
    "#To find the sum of N terms of a GP series for a common ratio of 0.5\n",
    "def GP(gp_init,n):\n",
    "    try:\n",
    "        if n<0:\n",
    "            print(\"Please enter a non-negative integer for N\") \n",
    "        else:\n",
    "            current_term = gp_init          #the initial term is set at first as current term\n",
    "            gp_total = gp_init              #the initial term is added before the for loop\n",
    "            common_ratio = 0.5\n",
    "            for k in range(1,n):            #the loop runs k-1 times when k>=1\n",
    "                current_term = current_term*common_ratio     #the current term is multiplied by the common ratio\n",
    "                gp_total = gp_total + current_term           #(k+1)th term of the GP is added to the total\n",
    "            print(\"The sum of the GP upto \" + str(n) + \" terms is = \" + str(gp_total))\n",
    "    except TypeError:\n",
    "        print(\"Please enter a non-negative integer for N\")  "
   ]
  },
  {
   "cell_type": "code",
   "execution_count": 167,
   "id": "b810be08",
   "metadata": {},
   "outputs": [
    {
     "name": "stdout",
     "output_type": "stream",
     "text": [
      "The sum of the GP upto 0 terms is = 1\n",
      "The sum of the GP upto 4 terms is = 3.75\n",
      "The sum of the GP upto 53 terms is = 1.9999999999999998\n",
      "Please enter a non-negative integer for N\n",
      "Please enter a non-negative integer for N\n"
     ]
    },
    {
     "data": {
      "text/plain": [
       "(None, None, None, None, None)"
      ]
     },
     "execution_count": 167,
     "metadata": {},
     "output_type": "execute_result"
    }
   ],
   "source": [
    "GP(1,0), GP(2,4), GP(1,53), GP(1,-10), GP(1,2.5)"
   ]
  },
  {
   "cell_type": "code",
   "execution_count": 168,
   "id": "e8e18259",
   "metadata": {},
   "outputs": [],
   "source": [
    "#To find the sum of N terms of an HP series for a common ratio of 0.5\n",
    "def HP(hp_init,n):\n",
    "    try:\n",
    "        if n<0:\n",
    "            print(\"Please enter a non-negative integer for N\") \n",
    "        else:\n",
    "            current_term = hp_init              #the initial term is set at first as current term\n",
    "            hp_total = hp_init                  #the initial term is added before the for loop\n",
    "            common_ratio = 0.5\n",
    "            for k in range(1,n):                #the loop runs k-1 times when k>=1\n",
    "                current_term = current_term/common_ratio        #the current term is divided by the common ratio\n",
    "                hp_total = hp_total + current_term              #(k+1)th term of the HP is added to the total\n",
    "            print(\"The sum of the HP upto \" + str(n) + \" terms is = \" + str(hp_total))\n",
    "    except TypeError:\n",
    "        print(\"Please enter a non-negative integer for N\")  "
   ]
  },
  {
   "cell_type": "code",
   "execution_count": 169,
   "id": "4c4afee0",
   "metadata": {},
   "outputs": [
    {
     "name": "stdout",
     "output_type": "stream",
     "text": [
      "The sum of the HP upto 0 terms is = 1\n",
      "The sum of the HP upto 4 terms is = 45.0\n",
      "The sum of the HP upto 3 terms is = -14.0\n",
      "The sum of the HP upto 3 terms is = 14.0\n",
      "Please enter a non-negative integer for N\n",
      "Please enter a non-negative integer for N\n"
     ]
    },
    {
     "data": {
      "text/plain": [
       "(None, None, None, None, None, None)"
      ]
     },
     "execution_count": 169,
     "metadata": {},
     "output_type": "execute_result"
    }
   ],
   "source": [
    "HP(1,0), HP(3,4), HP(-2,3), HP(2,3), HP(5,2.5), HP(1,-2)"
   ]
  },
  {
   "cell_type": "code",
   "execution_count": 170,
   "id": "439892bd",
   "metadata": {},
   "outputs": [],
   "source": [
    "#To find the factorial of N, where N is a natural number\n",
    "def factorial(F):\n",
    "    try:\n",
    "        if F<0:\n",
    "            print(\"Please enter a non-negative integer\")\n",
    "        else:\n",
    "            fact = 1\n",
    "            for l in range(1,F+1):                 #l runs from 1 to F\n",
    "                fact = l*fact                      #fact is multiplied by the index, producing the factorial\n",
    "            print(\"The factorial of \" + str(F) + \" is \" + str(fact))\n",
    "    except TypeError:\n",
    "        print(\"Please enter a non-negative integer\")"
   ]
  },
  {
   "cell_type": "code",
   "execution_count": 171,
   "id": "5dc4896d",
   "metadata": {},
   "outputs": [
    {
     "name": "stdout",
     "output_type": "stream",
     "text": [
      "The factorial of 3 is 6\n",
      "Please enter a non-negative integer\n",
      "The factorial of 10 is 3628800\n",
      "Please enter a non-negative integer\n",
      "The factorial of 0 is 1\n"
     ]
    },
    {
     "data": {
      "text/plain": [
       "(None, None, None, None, None)"
      ]
     },
     "execution_count": 171,
     "metadata": {},
     "output_type": "execute_result"
    }
   ],
   "source": [
    "factorial(3), factorial(5.6), factorial(10), factorial(-1), factorial(0)"
   ]
  },
  {
   "cell_type": "code",
   "execution_count": 172,
   "id": "4c158705",
   "metadata": {},
   "outputs": [],
   "source": [
    "#To calculate sin(x) and exp(-x) accurate up to 5 decimal places\n",
    "import math\n",
    "import matplotlib.pyplot as plt\n",
    "\n",
    "#General note: unit used for sine function calculations and plots is radians\n",
    "\n",
    "def factorial_no_print(F):   #define a factorial function that returns a value instead of printing\n",
    "    try:\n",
    "        if F<0:\n",
    "            print(\"Please enter a non-negative integer\")\n",
    "        else:\n",
    "            fact = 1\n",
    "            for l in range(1,F+1):\n",
    "                fact = l*fact\n",
    "            return(fact)\n",
    "    except TypeError:\n",
    "        print(\"Please enter a non-negative integer\")\n",
    "\n",
    "def sin_func(x,N):         #define a sine function\n",
    "    if N <= 0:\n",
    "        print(\"Enter a non-negative integer for N\")\n",
    "    else:\n",
    "        y = 0\n",
    "        for k in range(N+1):\n",
    "            y = y + ((-1)**k)*x**(2*k+1)/factorial_no_print(2*k+1)     #\n",
    "        return y\n",
    "    \n",
    "def exp_negative(x, N):    #define a negative exponential function\n",
    "    if N <= 0:\n",
    "        print(\"Enter a non-negative integer for N\")\n",
    "    else:\n",
    "        y = 0 \n",
    "        for k in range(N+1):\n",
    "            y = y + (-x)**k/factorial_no_print(k)\n",
    "        return y"
   ]
  },
  {
   "cell_type": "code",
   "execution_count": 173,
   "id": "f37e00e8",
   "metadata": {},
   "outputs": [
    {
     "data": {
      "text/plain": [
       "(0.1411200080598672, 0.8659224861546546)"
      ]
     },
     "execution_count": 173,
     "metadata": {},
     "output_type": "execute_result"
    }
   ],
   "source": [
    "math.sin(3), sin_func(1.047,3)"
   ]
  },
  {
   "cell_type": "code",
   "execution_count": 174,
   "id": "0edce2f8",
   "metadata": {},
   "outputs": [
    {
     "data": {
      "text/plain": [
       "(-0.5440211108893698, -1307.4603174603174)"
      ]
     },
     "execution_count": 174,
     "metadata": {},
     "output_type": "execute_result"
    }
   ],
   "source": [
    "math.sin(10), sin_func(10,3)"
   ]
  },
  {
   "cell_type": "code",
   "execution_count": 175,
   "id": "b3201eac",
   "metadata": {},
   "outputs": [
    {
     "data": {
      "text/plain": [
       "(0.1353352832366127, 0.13537918871252214)"
      ]
     },
     "execution_count": 175,
     "metadata": {},
     "output_type": "execute_result"
    }
   ],
   "source": [
    "math.exp(-2), exp_negative(2,10)"
   ]
  },
  {
   "cell_type": "code",
   "execution_count": 176,
   "id": "17a542c1",
   "metadata": {},
   "outputs": [
    {
     "data": {
      "text/plain": [
       "(0.1353352832366127, -0.33333333333333326)"
      ]
     },
     "execution_count": 176,
     "metadata": {},
     "output_type": "execute_result"
    }
   ],
   "source": [
    "math.exp(-2), exp_negative(2,3)"
   ]
  },
  {
   "cell_type": "code",
   "execution_count": 177,
   "id": "744c17cc",
   "metadata": {},
   "outputs": [
    {
     "name": "stdout",
     "output_type": "stream",
     "text": [
      "[1.6411200080598671, 0.38387999194013267, 0.050048579488438744, 0.0041924919401326866, 0.00024541390402316177, 1.0619125447364208e-05]\n"
     ]
    },
    {
     "data": {
      "image/png": "[encoded data removed]",
      "text/plain": [
       "<Figure size 432x288 with 1 Axes>"
      ]
     },
     "metadata": {
      "needs_background": "light"
     },
     "output_type": "display_data"
    }
   ],
   "source": [
    "#To plot modulus of error versus iteration numbers for sin(x)\n",
    "x = 3           #as taken above in a test example\n",
    "list_iter=[]\n",
    "list_err=[]\n",
    "digits = 1\n",
    "while abs(math.sin(x) - sin_func(x, digits))>10**(-5):               #run until 4 decimal places match\n",
    "    list_iter.append(digits)                                         #generate list for iterations\n",
    "    list_err.append(abs(math.sin(x) - sin_func(x, digits)))          #generate list for mod of error\n",
    "    digits = digits + 1\n",
    "print(list_err)\n",
    "\n",
    "#plot\n",
    "plt.xlabel(\"Iteration (N)\")\n",
    "plt.ylabel(\"Modulus of error\")\n",
    "plt.plot(list_iter,list_err,'-h')\n",
    "plt.show()"
   ]
  },
  {
   "cell_type": "code",
   "execution_count": 178,
   "id": "2260f8d0",
   "metadata": {},
   "outputs": [
    {
     "name": "stdout",
     "output_type": "stream",
     "text": [
      "[156.1226455557773, 677.2106877775561, 1306.916296349428, 1448.8156260491612, 1056.3952124950108, 549.5091711871507, 215.20720199483097, 65.9385234397211, 16.26782902652221, 3.3051120368690494, 0.5630581337616343, 0.08163689467681312, 0.01020000396114229, 0.0011099589253054098, 0.00010616611624814087]\n"
     ]
    },
    {
     "data": {
      "image/png": "[encoded data removed]",
      "text/plain": [
       "<Figure size 432x288 with 1 Axes>"
      ]
     },
     "metadata": {
      "needs_background": "light"
     },
     "output_type": "display_data"
    }
   ],
   "source": [
    "#To plot modulus of error versus iteration numbers for sin(x)\n",
    "x = 10           #as taken above in a test example\n",
    "list_iter=[]\n",
    "list_err=[]\n",
    "digits = 1\n",
    "while abs(math.sin(x) - sin_func(x, digits))>10**(-5):               #run until 4 decimal places match\n",
    "    list_iter.append(digits)                                         #generate list for iterations\n",
    "    list_err.append(abs(math.sin(x) - sin_func(x, digits)))          #generate list for mod of error\n",
    "    digits = digits + 1\n",
    "print(list_err)\n",
    "\n",
    "#plot\n",
    "plt.xlabel(\"Iteration (N)\")\n",
    "plt.ylabel(\"Modulus of error\")\n",
    "plt.plot(list_iter,list_err,'-h')\n",
    "plt.show()"
   ]
  },
  {
   "cell_type": "code",
   "execution_count": 179,
   "id": "a64e79c9",
   "metadata": {},
   "outputs": [
    {
     "name": "stdout",
     "output_type": "stream",
     "text": [
      "[1.1353352832366128, 0.8646647167633873, 0.46866861656994596, 0.19799805009672067, 0.068668616569946, 0.02022027231894291, 0.005176553077882479, 0.0011726532713238758, 0.00023828147294419066, 4.390547590943372e-05]\n"
     ]
    },
    {
     "data": {
      "image/png": "[encoded data removed]",
      "text/plain": [
       "<Figure size 432x288 with 1 Axes>"
      ]
     },
     "metadata": {
      "needs_background": "light"
     },
     "output_type": "display_data"
    }
   ],
   "source": [
    "#To plot modulus of error versus iteration numbers for sin(x)\n",
    "x = 2            #as taken above in a test example\n",
    "list_iter=[]\n",
    "list_err=[]\n",
    "digits = 1\n",
    "while abs(math.exp(-x) - exp_negative(x, digits))>10**(-5):               #run until 4 decimal places match\n",
    "    list_iter.append(digits)                                             #generate list for iterations\n",
    "    list_err.append(abs(math.exp(-x) - exp_negative(x, digits)))          #generate list for mod of error\n",
    "    digits = digits + 1\n",
    "print(list_err)\n",
    "\n",
    "#plot\n",
    "plt.xlabel(\"Iteration (N)\")\n",
    "plt.ylabel(\"Modulus of error\")\n",
    "plt.plot(list_iter,list_err,'-h')\n",
    "plt.show()"
   ]
  },
  {
   "cell_type": "code",
   "execution_count": 180,
   "id": "ecbe73d1",
   "metadata": {},
   "outputs": [
    {
     "name": "stdout",
     "output_type": "stream",
     "text": [
      "[9.000045399929762, 40.99995460007024, 125.66671206659642, 290.9999546000702, 542.3333787332631, 846.5555101556258, 1137.5714739713583, 1342.5872561873718, 1413.1446662112173, 1342.5872561873718, 1162.6235823568002, 925.0521164300097, 680.8522672521518, 466.22229252082053, 298.49408066116115, 179.45365257757737, 101.69207285697466, 54.4999968288876, 27.706355637355703, 13.39682059576595, 6.176120467625312, 2.720670924825262, 1.1474992458054223, 0.4642383252906961, 0.1804567031477513, 0.06750292317472845, 0.024333975463227013, 0.008464916907471363, 0.002845045978976353, 0.0009249416498395525, 0.00029118339171396544, 8.885568377150888e-05, 2.6307672436210606e-05]\n"
     ]
    },
    {
     "data": {
      "image/png": "[encoded data removed]",
      "text/plain": [
       "<Figure size 432x288 with 1 Axes>"
      ]
     },
     "metadata": {
      "needs_background": "light"
     },
     "output_type": "display_data"
    }
   ],
   "source": [
    "#To plot modulus of error versus iteration numbers for sin(x)\n",
    "x = 10            #as taken above in a test example\n",
    "list_iter=[]\n",
    "list_err=[]\n",
    "digits = 1\n",
    "while abs(math.exp(-x) - exp_negative(x, digits))>10**(-5):               #run until 4 decimal places match\n",
    "    list_iter.append(digits)                                             #generate list for iterations\n",
    "    list_err.append(abs(math.exp(-x) - exp_negative(x, digits)))          #generate list for mod of error\n",
    "    digits = digits + 1\n",
    "print(list_err)\n",
    "\n",
    "#plot\n",
    "plt.xlabel(\"Iteration (N)\")\n",
    "plt.ylabel(\"Modulus of error\")\n",
    "plt.plot(list_iter,list_err,'-h')\n",
    "plt.show()"
   ]
  }
 ],
 "metadata": {
  "kernelspec": {
   "display_name": "Python 3",
   "language": "python",
   "name": "python3"
  },
  "language_info": {
   "codemirror_mode": {
    "name": "ipython",
    "version": 3
   },
   "file_extension": ".py",
   "mimetype": "text/x-python",
   "name": "python",
   "nbconvert_exporter": "python",
   "pygments_lexer": "ipython3",
   "version": "3.7.10"
  }
 },
 "nbformat": 4,
 "nbformat_minor": 5
}
